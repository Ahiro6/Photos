{
 "cells": [
  {
   "cell_type": "code",
   "execution_count": 182,
   "id": "senior-image",
   "metadata": {},
   "outputs": [],
   "source": [
    "import pandas as pd\n",
    "import xlrd\n",
    "from bokeh.plotting import figure, output_file, show\n",
    "import datetime"
   ]
  },
  {
   "cell_type": "code",
   "execution_count": 183,
   "id": "tutorial-collar",
   "metadata": {},
   "outputs": [],
   "source": [
    "df = pd.read_csv(\"Times_movement.csv\", parse_dates=[\"Start\", \"End\"])"
   ]
  },
  {
   "cell_type": "code",
   "execution_count": 184,
   "id": "developed-walter",
   "metadata": {
    "scrolled": true
   },
   "outputs": [
    {
     "data": {
      "text/html": [
       "<div>\n",
       "<style scoped>\n",
       "    .dataframe tbody tr th:only-of-type {\n",
       "        vertical-align: middle;\n",
       "    }\n",
       "\n",
       "    .dataframe tbody tr th {\n",
       "        vertical-align: top;\n",
       "    }\n",
       "\n",
       "    .dataframe thead th {\n",
       "        text-align: right;\n",
       "    }\n",
       "</style>\n",
       "<table border=\"1\" class=\"dataframe\">\n",
       "  <thead>\n",
       "    <tr style=\"text-align: right;\">\n",
       "      <th></th>\n",
       "      <th>Unnamed: 0</th>\n",
       "      <th>Date</th>\n",
       "      <th>Day</th>\n",
       "      <th>Start</th>\n",
       "      <th>End</th>\n",
       "      <th>Times</th>\n",
       "    </tr>\n",
       "  </thead>\n",
       "  <tbody>\n",
       "    <tr>\n",
       "      <th>0</th>\n",
       "      <td>0</td>\n",
       "      <td>07/11/21</td>\n",
       "      <td>Sun</td>\n",
       "      <td>2021-07-11 16:42:12</td>\n",
       "      <td>2021-07-11 16:42:12</td>\n",
       "      <td>0.188080</td>\n",
       "    </tr>\n",
       "    <tr>\n",
       "      <th>1</th>\n",
       "      <td>1</td>\n",
       "      <td>07/11/21</td>\n",
       "      <td>Sun</td>\n",
       "      <td>2021-07-11 16:42:13</td>\n",
       "      <td>2021-07-11 16:42:13</td>\n",
       "      <td>0.096267</td>\n",
       "    </tr>\n",
       "    <tr>\n",
       "      <th>2</th>\n",
       "      <td>2</td>\n",
       "      <td>07/11/21</td>\n",
       "      <td>Sun</td>\n",
       "      <td>2021-07-11 16:42:13</td>\n",
       "      <td>2021-07-11 16:42:14</td>\n",
       "      <td>0.472542</td>\n",
       "    </tr>\n",
       "    <tr>\n",
       "      <th>3</th>\n",
       "      <td>3</td>\n",
       "      <td>07/11/21</td>\n",
       "      <td>Sun</td>\n",
       "      <td>2021-07-11 16:42:14</td>\n",
       "      <td>2021-07-11 16:42:14</td>\n",
       "      <td>0.098109</td>\n",
       "    </tr>\n",
       "    <tr>\n",
       "      <th>4</th>\n",
       "      <td>4</td>\n",
       "      <td>07/11/21</td>\n",
       "      <td>Sun</td>\n",
       "      <td>2021-07-11 16:42:14</td>\n",
       "      <td>2021-07-11 16:42:14</td>\n",
       "      <td>0.190003</td>\n",
       "    </tr>\n",
       "    <tr>\n",
       "      <th>5</th>\n",
       "      <td>5</td>\n",
       "      <td>07/11/21</td>\n",
       "      <td>Sun</td>\n",
       "      <td>2021-07-11 16:42:15</td>\n",
       "      <td>2021-07-11 16:42:15</td>\n",
       "      <td>0.187333</td>\n",
       "    </tr>\n",
       "    <tr>\n",
       "      <th>6</th>\n",
       "      <td>6</td>\n",
       "      <td>07/11/21</td>\n",
       "      <td>Sun</td>\n",
       "      <td>2021-07-11 16:42:15</td>\n",
       "      <td>2021-07-11 16:42:15</td>\n",
       "      <td>0.185798</td>\n",
       "    </tr>\n",
       "    <tr>\n",
       "      <th>7</th>\n",
       "      <td>7</td>\n",
       "      <td>07/11/21</td>\n",
       "      <td>Sun</td>\n",
       "      <td>2021-07-11 16:42:15</td>\n",
       "      <td>2021-07-11 16:42:21</td>\n",
       "      <td>6.207272</td>\n",
       "    </tr>\n",
       "  </tbody>\n",
       "</table>\n",
       "</div>"
      ],
      "text/plain": [
       "   Unnamed: 0      Date  Day               Start                 End     Times\n",
       "0           0  07/11/21  Sun 2021-07-11 16:42:12 2021-07-11 16:42:12  0.188080\n",
       "1           1  07/11/21  Sun 2021-07-11 16:42:13 2021-07-11 16:42:13  0.096267\n",
       "2           2  07/11/21  Sun 2021-07-11 16:42:13 2021-07-11 16:42:14  0.472542\n",
       "3           3  07/11/21  Sun 2021-07-11 16:42:14 2021-07-11 16:42:14  0.098109\n",
       "4           4  07/11/21  Sun 2021-07-11 16:42:14 2021-07-11 16:42:14  0.190003\n",
       "5           5  07/11/21  Sun 2021-07-11 16:42:15 2021-07-11 16:42:15  0.187333\n",
       "6           6  07/11/21  Sun 2021-07-11 16:42:15 2021-07-11 16:42:15  0.185798\n",
       "7           7  07/11/21  Sun 2021-07-11 16:42:15 2021-07-11 16:42:21  6.207272"
      ]
     },
     "execution_count": 184,
     "metadata": {},
     "output_type": "execute_result"
    }
   ],
   "source": [
    "df"
   ]
  },
  {
   "cell_type": "code",
   "execution_count": 185,
   "id": "measured-yemen",
   "metadata": {},
   "outputs": [],
   "source": [
    "dates = df[\"Date\"]\n",
    "days = df[\"Day\"]\n",
    "x = df[\"Start\"]\n",
    "y = df[\"End\"]\n",
    "t = df[\"Times\"]\n",
    "df[\"Nr\"] = df.index\n",
    "i = df[\"Nr\"]\n"
   ]
  },
  {
   "cell_type": "code",
   "execution_count": 186,
   "id": "corrected-compact",
   "metadata": {},
   "outputs": [
    {
     "data": {
      "text/plain": [
       "0   2021-07-11 16:42:12\n",
       "1   2021-07-11 16:42:13\n",
       "2   2021-07-11 16:42:13\n",
       "3   2021-07-11 16:42:14\n",
       "4   2021-07-11 16:42:14\n",
       "5   2021-07-11 16:42:15\n",
       "6   2021-07-11 16:42:15\n",
       "7   2021-07-11 16:42:15\n",
       "Name: Start, dtype: datetime64[ns]"
      ]
     },
     "execution_count": 186,
     "metadata": {},
     "output_type": "execute_result"
    }
   ],
   "source": [
    "x"
   ]
  },
  {
   "cell_type": "code",
   "execution_count": 187,
   "id": "underlying-programmer",
   "metadata": {},
   "outputs": [
    {
     "data": {
      "text/plain": [
       "0   2021-07-11 16:42:12\n",
       "1   2021-07-11 16:42:13\n",
       "2   2021-07-11 16:42:14\n",
       "3   2021-07-11 16:42:14\n",
       "4   2021-07-11 16:42:14\n",
       "5   2021-07-11 16:42:15\n",
       "6   2021-07-11 16:42:15\n",
       "7   2021-07-11 16:42:21\n",
       "Name: End, dtype: datetime64[ns]"
      ]
     },
     "execution_count": 187,
     "metadata": {},
     "output_type": "execute_result"
    }
   ],
   "source": [
    "y"
   ]
  },
  {
   "cell_type": "code",
   "execution_count": 188,
   "id": "dirty-pipeline",
   "metadata": {},
   "outputs": [],
   "source": [
    "#, y_axis_type=\"auto\"\n",
    "f=figure(width=1500, height=600, x_axis_type=\"datetime\")\n",
    "\n",
    "\n",
    "f.title.text=f\"Motion Graph {dates[0]} {days[0]}\"\n",
    "f.title.text_color=\"Gray\"\n",
    "f.title.text_font=\"times\"\n",
    "f.title.text_font_style=\"bold\"\n",
    "f.xaxis.minor_tick_line_color=None\n",
    "f.yaxis.minor_tick_line_color=None\n",
    "f.xaxis.axis_label=\"Time (Seconds)\" \n",
    "f.yaxis[0].ticker.desired_num_ticks=1\n",
    "\n",
    "f.quad(left=x,right=y, top=1, bottom=0, color=[\"blue\" if i < 3 else \"Orange\" if 3 <= i < 5 else \"red\" for i in t], alpha=0.5)\n",
    "\n",
    "output_file(\"Motion-graph.html\")\n",
    "show(f)\n",
    "\n"
   ]
  },
  {
   "cell_type": "code",
   "execution_count": 41,
   "id": "15993d80",
   "metadata": {},
   "outputs": [
    {
     "data": {
      "text/plain": [
       "0    0.188080\n",
       "1    0.096267\n",
       "2    0.472542\n",
       "3    0.098109\n",
       "4    0.190003\n",
       "5    0.187333\n",
       "6    0.185798\n",
       "7    6.207272\n",
       "Name: Times, dtype: float64"
      ]
     },
     "execution_count": 41,
     "metadata": {},
     "output_type": "execute_result"
    }
   ],
   "source": [
    "t"
   ]
  },
  {
   "cell_type": "code",
   "execution_count": null,
   "id": "3c13fcf1",
   "metadata": {},
   "outputs": [],
   "source": []
  },
  {
   "cell_type": "code",
   "execution_count": null,
   "id": "b6927259",
   "metadata": {},
   "outputs": [],
   "source": []
  }
 ],
 "metadata": {
  "kernelspec": {
   "display_name": "Python 3 (ipykernel)",
   "language": "python",
   "name": "python3"
  },
  "language_info": {
   "codemirror_mode": {
    "name": "ipython",
    "version": 3
   },
   "file_extension": ".py",
   "mimetype": "text/x-python",
   "name": "python",
   "nbconvert_exporter": "python",
   "pygments_lexer": "ipython3",
   "version": "3.8.6"
  }
 },
 "nbformat": 4,
 "nbformat_minor": 5
}
