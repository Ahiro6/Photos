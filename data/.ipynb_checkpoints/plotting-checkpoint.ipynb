{
 "cells": [
  {
   "cell_type": "code",
   "execution_count": 12,
   "id": "senior-image",
   "metadata": {},
   "outputs": [],
   "source": [
    "import pandas as pd\n",
    "import xlrd\n",
    "from bokeh.plotting import figure\n",
    "from bokeh.io import output_file, show"
   ]
  },
  {
   "cell_type": "code",
   "execution_count": 4,
   "id": "tutorial-collar",
   "metadata": {},
   "outputs": [],
   "source": [
    "df = pd.read_csv(\"Times_movement.csv\")"
   ]
  },
  {
   "cell_type": "code",
   "execution_count": 5,
   "id": "developed-walter",
   "metadata": {
    "scrolled": true
   },
   "outputs": [
    {
     "data": {
      "text/html": [
       "<div>\n",
       "<style scoped>\n",
       "    .dataframe tbody tr th:only-of-type {\n",
       "        vertical-align: middle;\n",
       "    }\n",
       "\n",
       "    .dataframe tbody tr th {\n",
       "        vertical-align: top;\n",
       "    }\n",
       "\n",
       "    .dataframe thead th {\n",
       "        text-align: right;\n",
       "    }\n",
       "</style>\n",
       "<table border=\"1\" class=\"dataframe\">\n",
       "  <thead>\n",
       "    <tr style=\"text-align: right;\">\n",
       "      <th></th>\n",
       "      <th>Unnamed: 0</th>\n",
       "      <th>Start</th>\n",
       "      <th>End</th>\n",
       "      <th>Time</th>\n",
       "    </tr>\n",
       "  </thead>\n",
       "  <tbody>\n",
       "    <tr>\n",
       "      <th>0</th>\n",
       "      <td>0</td>\n",
       "      <td>2021-07-11 11:44:41.954931</td>\n",
       "      <td>2021-07-11 11:44:42.721210</td>\n",
       "      <td>5.652828</td>\n",
       "    </tr>\n",
       "    <tr>\n",
       "      <th>1</th>\n",
       "      <td>1</td>\n",
       "      <td>2021-07-11 11:44:44.495197</td>\n",
       "      <td>2021-07-11 11:44:44.831435</td>\n",
       "      <td>8.193191</td>\n",
       "    </tr>\n",
       "    <tr>\n",
       "      <th>2</th>\n",
       "      <td>2</td>\n",
       "      <td>2021-07-11 11:44:46.232248</td>\n",
       "      <td>2021-07-11 11:44:46.390886</td>\n",
       "      <td>9.930905</td>\n",
       "    </tr>\n",
       "    <tr>\n",
       "      <th>3</th>\n",
       "      <td>3</td>\n",
       "      <td>2021-07-11 11:44:46.470653</td>\n",
       "      <td>2021-07-11 11:44:46.563257</td>\n",
       "      <td>10.169119</td>\n",
       "    </tr>\n",
       "    <tr>\n",
       "      <th>4</th>\n",
       "      <td>4</td>\n",
       "      <td>2021-07-11 11:44:46.660908</td>\n",
       "      <td>2021-07-11 11:44:47.000811</td>\n",
       "      <td>10.358815</td>\n",
       "    </tr>\n",
       "  </tbody>\n",
       "</table>\n",
       "</div>"
      ],
      "text/plain": [
       "   Unnamed: 0                       Start                         End  \\\n",
       "0           0  2021-07-11 11:44:41.954931  2021-07-11 11:44:42.721210   \n",
       "1           1  2021-07-11 11:44:44.495197  2021-07-11 11:44:44.831435   \n",
       "2           2  2021-07-11 11:44:46.232248  2021-07-11 11:44:46.390886   \n",
       "3           3  2021-07-11 11:44:46.470653  2021-07-11 11:44:46.563257   \n",
       "4           4  2021-07-11 11:44:46.660908  2021-07-11 11:44:47.000811   \n",
       "\n",
       "        Time  \n",
       "0   5.652828  \n",
       "1   8.193191  \n",
       "2   9.930905  \n",
       "3  10.169119  \n",
       "4  10.358815  "
      ]
     },
     "execution_count": 5,
     "metadata": {},
     "output_type": "execute_result"
    }
   ],
   "source": [
    "df"
   ]
  },
  {
   "cell_type": "code",
   "execution_count": 6,
   "id": "measured-yemen",
   "metadata": {},
   "outputs": [],
   "source": [
    "x = df[\"Start\"]\n",
    "y = df[\"End\"]\n",
    "t = df[\"Time\"]\n",
    "df[\"Nr\"] = df.index\n",
    "i = df[\"Nr\"]\n",
    "\n",
    "x = [i for i in x]\n",
    "y = [j for j in y]\n",
    "\n",
    "x[0] = 1\n",
    "y[0] = 1\n",
    "\n",
    "z = [1, 2, 3, 4, 5]\n",
    "g = [1, 2, 3, 4, 5]"
   ]
  },
  {
   "cell_type": "code",
   "execution_count": 7,
   "id": "corrected-compact",
   "metadata": {},
   "outputs": [
    {
     "data": {
      "text/plain": [
       "[1,\n",
       " '2021-07-11 11:44:44.495197',\n",
       " '2021-07-11 11:44:46.232248',\n",
       " '2021-07-11 11:44:46.470653',\n",
       " '2021-07-11 11:44:46.660908']"
      ]
     },
     "execution_count": 7,
     "metadata": {},
     "output_type": "execute_result"
    }
   ],
   "source": [
    "x"
   ]
  },
  {
   "cell_type": "code",
   "execution_count": 8,
   "id": "underlying-programmer",
   "metadata": {},
   "outputs": [
    {
     "data": {
      "text/plain": [
       "[1,\n",
       " '2021-07-11 11:44:44.831435',\n",
       " '2021-07-11 11:44:46.390886',\n",
       " '2021-07-11 11:44:46.563257',\n",
       " '2021-07-11 11:44:47.000811']"
      ]
     },
     "execution_count": 8,
     "metadata": {},
     "output_type": "execute_result"
    }
   ],
   "source": [
    "y"
   ]
  },
  {
   "cell_type": "code",
   "execution_count": 21,
   "id": "dirty-pipeline",
   "metadata": {},
   "outputs": [],
   "source": [
    "output_file(\"Line.html\")\n",
    "f=figure()\n",
    "\n",
    "\n",
    "f.title.text=\"Time Object Was Seen\"\n",
    "f.title.text_color=\"Gray\"\n",
    "f.title.text_font=\"times\"\n",
    "f.title.text_font_style=\"bold\"\n",
    "f.xaxis.minor_tick_line_color=None\n",
    "f.yaxis.minor_tick_line_color=None\n",
    "f.xaxis.axis_label=\"Time (Seconds)\"\n",
    "f.yaxis.axis_label=\"Entry\"    \n",
    "\n",
    "f.circle(t, i, size=[i for i in t], color=[\"blue\" if i <= 10.0 else \"red\" for i in t])\n",
    "show(f)\n",
    "\n"
   ]
  },
  {
   "cell_type": "code",
   "execution_count": 16,
   "id": "15993d80",
   "metadata": {},
   "outputs": [
    {
     "data": {
      "text/plain": [
       "0     5.652828\n",
       "1     8.193191\n",
       "2     9.930905\n",
       "3    10.169119\n",
       "4    10.358815\n",
       "Name: Time, dtype: float64"
      ]
     },
     "execution_count": 16,
     "metadata": {},
     "output_type": "execute_result"
    }
   ],
   "source": [
    "t"
   ]
  }
 ],
 "metadata": {
  "kernelspec": {
   "display_name": "Python 3 (ipykernel)",
   "language": "python",
   "name": "python3"
  },
  "language_info": {
   "codemirror_mode": {
    "name": "ipython",
    "version": 3
   },
   "file_extension": ".py",
   "mimetype": "text/x-python",
   "name": "python",
   "nbconvert_exporter": "python",
   "pygments_lexer": "ipython3",
   "version": "3.8.6"
  }
 },
 "nbformat": 4,
 "nbformat_minor": 5
}
